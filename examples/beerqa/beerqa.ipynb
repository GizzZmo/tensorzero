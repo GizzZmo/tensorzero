{
 "cells": [
  {
   "cell_type": "code",
   "execution_count": null,
   "metadata": {},
   "outputs": [],
   "source": [
    "from typing import Any\n",
    "\n",
    "from tensorzero import AsyncTensorZeroGateway, ToolCall\n",
    "\n",
    "from utils import BeerQA, get_wikipedia_full_text, get_wikipedia_summary"
   ]
  },
  {
   "cell_type": "code",
   "execution_count": null,
   "metadata": {},
   "outputs": [],
   "source": [
    "beerqa = BeerQA(\"data/beerqa_dev_v1.0.json\")"
   ]
  },
  {
   "cell_type": "code",
   "execution_count": null,
   "metadata": {},
   "outputs": [],
   "source": [
    "async def execute_tool_call(tool_call: ToolCall) -> Any:\n",
    "    title = tool_call.arguments[\"article_title\"]\n",
    "    if tool_call.name == \"get_summary\":\n",
    "        return await get_wikipedia_summary(title)\n",
    "    elif tool_call.name == \"get_full_text\":\n",
    "        return await get_wikipedia_full_text(title)\n",
    "    else:\n",
    "        raise ValueError(f\"Unknown tool call: {tool_call.name}\")"
   ]
  },
  {
   "cell_type": "code",
   "execution_count": null,
   "metadata": {},
   "outputs": [],
   "source": [
    "async def solve_beerqa(client: AsyncTensorZeroGateway, question: str, query_budget: int = 3) -> str:\n",
    "    \"\"\"\n",
    "    Solve a BeerQA question using Wikipedia.\n",
    "    \"\"\"\n",
    "    messages = [{\"role\": \"user\", \"content\": question}]\n",
    "    for queries_remaining in range(query_budget, 0, -1):\n",
    "        response = await client.inference(function_name=\"beerqa_solver\", input={\n",
    "            \"system\": {\"queries_remaining\": queries_remaining},\n",
    "            \"messages\": messages\n",
    "        })\n",
    "        messages.append({\"role\": \"user\", \"content\": response.content})\n",
    "        for block in response.content:\n",
    "            if block.type == \"tool_call\":\n",
    "                if block.name == \"submit_answer\":\n",
    "                    return block.arguments[\"answer\"]\n",
    "                result = await execute_tool_call(block)\n",
    "                print(result)"
   ]
  },
  {
   "cell_type": "code",
   "execution_count": null,
   "metadata": {},
   "outputs": [],
   "source": [
    "question = beerqa.get_question(0)\n",
    "async with AsyncTensorZeroGateway(\"http://localhost:3000\") as client:\n",
    "    answer = await solve_beerqa(client, question)"
   ]
  },
  {
   "cell_type": "code",
   "execution_count": null,
   "metadata": {},
   "outputs": [],
   "source": []
  }
 ],
 "metadata": {
  "kernelspec": {
   "display_name": ".venv",
   "language": "python",
   "name": "python3"
  },
  "language_info": {
   "codemirror_mode": {
    "name": "ipython",
    "version": 3
   },
   "file_extension": ".py",
   "mimetype": "text/x-python",
   "name": "python",
   "nbconvert_exporter": "python",
   "pygments_lexer": "ipython3",
   "version": "3.12.5"
  }
 },
 "nbformat": 4,
 "nbformat_minor": 2
}
